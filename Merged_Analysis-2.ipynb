{
 "cells": [
  {
   "cell_type": "code",
   "execution_count": 1,
   "id": "aerial-center",
   "metadata": {},
   "outputs": [],
   "source": [
    "import pandas as pd\n",
    "import numpy as np\n",
    "import matplotlib.pyplot as plt\n",
    "L1 = pd.read_csv('/Users/Alessandro/Desktop/IOT-Project/babd_light_z1.csv', delim_whitespace=True)\n",
    "L2 = pd.read_csv('/Users/Alessandro/Desktop/IOT-Project/babd_light_z2.csv', delim_whitespace=True)\n",
    "L3 = pd.read_csv('/Users/Alessandro/Desktop/IOT-Project/babd_light_z3.csv', delim_whitespace=True)\n",
    "L4 = pd.read_csv('/Users/Alessandro/Desktop/IOT-Project/babd_light_z3a.csv', delim_whitespace=True)"
   ]
  },
  {
   "cell_type": "code",
   "execution_count": 2,
   "id": "accredited-merchandise",
   "metadata": {},
   "outputs": [],
   "source": [
    "M1 = pd.read_csv('/Users/Alessandro/Desktop/IOT-Project/babd_movement_z1.csv', delim_whitespace=True)\n",
    "M2 = pd.read_csv('/Users/Alessandro/Desktop/IOT-Project/babd_movement_z2.csv', delim_whitespace=True)\n",
    "M3 = pd.read_csv('/Users/Alessandro/Desktop/IOT-Project/babd_movement_z3.csv', delim_whitespace=True)\n",
    "M4 = pd.read_csv('/Users/Alessandro/Desktop/IOT-Project/babd_movement_z3a.csv', delim_whitespace=True)"
   ]
  },
  {
   "cell_type": "code",
   "execution_count": 3,
   "metadata": {
    "scrolled": true
   },
   "outputs": [],
   "source": [
    "# this is the df of april\n",
    "forecast = pd.read_csv('/Users/Alessandro/Desktop/IOT-Project/forecast.csv') "
   ]
  },
  {
   "cell_type": "code",
   "execution_count": 4,
   "id": "exclusive-tuning",
   "metadata": {},
   "outputs": [],
   "source": [
    "M4['zone'] = M4['zone'].apply(lambda x: x + 1)\n",
    "L4['zone'] = L4['zone'].apply(lambda x: x + 1)"
   ]
  },
  {
   "cell_type": "code",
   "execution_count": 5,
   "id": "hungry-acrylic",
   "metadata": {},
   "outputs": [],
   "source": [
    "movement = pd.concat([M1, M2, M3, M4], axis=0)"
   ]
  },
  {
   "cell_type": "code",
   "execution_count": 6,
   "id": "treated-definition",
   "metadata": {},
   "outputs": [],
   "source": [
    "light = pd.concat([L1,L2,L3,L4], axis=0)"
   ]
  },
  {
   "cell_type": "code",
   "execution_count": 7,
   "id": "impressed-brake",
   "metadata": {},
   "outputs": [],
   "source": [
    "light = light.sort_values(by=['zone'], ascending=True)"
   ]
  },
  {
   "cell_type": "code",
   "execution_count": 8,
   "metadata": {},
   "outputs": [],
   "source": [
    "light.reset_index(inplace=True)"
   ]
  },
  {
   "cell_type": "code",
   "execution_count": 9,
   "metadata": {},
   "outputs": [],
   "source": [
    "pd.set_option(\"display.max_rows\",20)"
   ]
  },
  {
   "cell_type": "code",
   "execution_count": 10,
   "metadata": {},
   "outputs": [],
   "source": [
    "light[\"index\"] = pd.to_datetime(light[\"index\"], errors=\"coerce\")"
   ]
  },
  {
   "cell_type": "code",
   "execution_count": 11,
   "metadata": {},
   "outputs": [],
   "source": [
    "light[\"week\"] = light[\"index\"].dt.isocalendar().week"
   ]
  },
  {
   "cell_type": "code",
   "execution_count": 12,
   "metadata": {},
   "outputs": [],
   "source": [
    "light[\"timestamp\"] = pd.to_datetime(light[\"timestamp\"],errors=\"coerce\")"
   ]
  },
  {
   "cell_type": "code",
   "execution_count": 13,
   "metadata": {},
   "outputs": [],
   "source": [
    "light[\"hour\"] = light[\"timestamp\"].dt.hour"
   ]
  },
  {
   "cell_type": "code",
   "execution_count": 14,
   "id": "mediterranean-recommendation",
   "metadata": {},
   "outputs": [],
   "source": [
    "newcol = []\n",
    "for i in light['value']:\n",
    "    if i<450:\n",
    "        newcol.append(i-450)\n",
    "    elif i>650:\n",
    "        newcol.append(i-650)\n",
    "    else:\n",
    "        newcol.append(0)\n",
    "\n",
    "newcol = pd.DataFrame(newcol)\n",
    "light['diff']=newcol"
   ]
  },
  {
   "cell_type": "code",
   "execution_count": 15,
   "metadata": {},
   "outputs": [],
   "source": [
    "# why did I create this copy? \n",
    "prevision = light.copy()\n",
    "prevision[\"day\"] = prevision[\"index\"].dt.day\n",
    "prevision[\"hour\"] = prevision[\"timestamp\"].dt.hour"
   ]
  },
  {
   "cell_type": "code",
   "execution_count": 16,
   "metadata": {},
   "outputs": [],
   "source": [
    "light.drop([\"index\",\"sensor\",\"id\",\"unit_of_measure\",\"timestamp\",\"zone\"], axis=1, inplace=True)"
   ]
  },
  {
   "cell_type": "code",
   "execution_count": 17,
   "metadata": {},
   "outputs": [],
   "source": [
    "prevision.drop([\"index\",\"sensor\",\"id\",\"unit_of_measure\",\"timestamp\",\"zone\"], axis=1, inplace=True)"
   ]
  },
  {
   "cell_type": "code",
   "execution_count": 18,
   "metadata": {},
   "outputs": [],
   "source": [
    "#light[light[\"value\"]==2].shape[0]/light.shape[0]\n",
    "#light[\"value\"].value_counts()"
   ]
  },
  {
   "cell_type": "code",
   "execution_count": 19,
   "metadata": {},
   "outputs": [],
   "source": [
    "weekwise = light.groupby([\"week\",\"hour\"],as_index=False).mean()"
   ]
  },
  {
   "cell_type": "markdown",
   "metadata": {},
   "source": [
    "#### With the next for loop I am displaying how the measure of the light has changed over the weeks for each hour\n"
   ]
  },
  {
   "cell_type": "code",
   "execution_count": 20,
   "metadata": {},
   "outputs": [],
   "source": [
    "dicts = {}\n",
    "for i in weekwise.index:\n",
    "    if weekwise.iloc[i,1] not in dicts.keys():\n",
    "        dicts[weekwise.iloc[i,1]] = [weekwise.iloc[i,2]]\n",
    "    else:\n",
    "        dicts[weekwise.iloc[i,1]].append(weekwise.iloc[i,2])"
   ]
  },
  {
   "cell_type": "code",
   "execution_count": 21,
   "metadata": {},
   "outputs": [
    {
     "data": {
      "text/plain": [
       "{1: [7.865584415584416,\n",
       "  7.795671167593328,\n",
       "  8.043760129659644,\n",
       "  7.087638979725311,\n",
       "  2.0],\n",
       " 2: [7.735975741823695,\n",
       "  7.777667395191735,\n",
       "  8.094675925925927,\n",
       "  7.172391233235198,\n",
       "  2.0],\n",
       " 3: [7.779510504656703,\n",
       "  7.782720953326713,\n",
       "  8.050729673384295,\n",
       "  7.143510951291272,\n",
       "  2.0],\n",
       " 4: [7.743556421918995,\n",
       "  7.795553791186979,\n",
       "  7.995367153115589,\n",
       "  7.116704805491991,\n",
       "  2.0],\n",
       " 5: [7.813001083423619,\n",
       "  7.832605242255759,\n",
       "  8.09708063021316,\n",
       "  7.44426283099052,\n",
       "  3.033333333333333],\n",
       " 6: [19.59883091578264,\n",
       "  38.59078267779102,\n",
       "  119.19304750869061,\n",
       "  247.05135754007196,\n",
       "  312.6333333333333],\n",
       " 7: [366.1687269572761,\n",
       "  424.57063270990847,\n",
       "  614.6663568773234,\n",
       "  780.3933026920552,\n",
       "  821.6944444444445],\n",
       " 8: [704.31636205396,\n",
       "  709.2108639005813,\n",
       "  893.2548515314472,\n",
       "  1009.6076948372246,\n",
       "  1019.6123595505618],\n",
       " 9: [781.4647293700089,\n",
       "  787.3835699797161,\n",
       "  879.0454008039726,\n",
       "  985.4727212242183,\n",
       "  990.7303370786517],\n",
       " 10: [888.9103576405016,\n",
       "  826.0633759902498,\n",
       "  949.7732831608655,\n",
       "  1007.4635193133047,\n",
       "  1007.4302325581396],\n",
       " 11: [933.1582109479306,\n",
       "  835.3004291845493,\n",
       "  976.6893203883495,\n",
       "  1005.620428336079,\n",
       "  930.4166666666666],\n",
       " 12: [937.2349463542807,\n",
       "  867.226956165506,\n",
       "  974.3084876172156,\n",
       "  1011.4615894039736,\n",
       "  975.4555555555555],\n",
       " 13: [944.6145787865561,\n",
       "  892.2591537835639,\n",
       "  961.9176039119804,\n",
       "  1003.9731774415405,\n",
       "  1023.8994413407821],\n",
       " 14: [861.4075119409466,\n",
       "  849.6352509179926,\n",
       "  943.1644768856447,\n",
       "  1004.9023581429624,\n",
       "  1024.0],\n",
       " 15: [737.4915289688349,\n",
       "  757.9813953488372,\n",
       "  889.8982332155477,\n",
       "  992.5947565543071,\n",
       "  968.0055555555556],\n",
       " 16: [703.8519681742043,\n",
       "  667.8415178571429,\n",
       "  875.2341772151899,\n",
       "  960.9817027632562,\n",
       "  935.5060240963855],\n",
       " 17: [409.7095987585901,\n",
       "  511.562713911818,\n",
       "  704.1301918872965,\n",
       "  859.8473880597015,\n",
       "  893.8659217877095],\n",
       " 18: [41.481352992194275,\n",
       "  84.70317175344105,\n",
       "  139.13247447739425,\n",
       "  219.09417871709306,\n",
       "  181.46927374301677],\n",
       " 19: [8.30032502708559,\n",
       "  8.370458606313282,\n",
       "  26.390356190937727,\n",
       "  17.243793997776955,\n",
       "  2.172222222222222],\n",
       " 20: [8.19068255687974,\n",
       "  8.273286991062562,\n",
       "  26.07496360989811,\n",
       "  7.004446091144868,\n",
       "  1.9944444444444445],\n",
       " 21: [8.14660025985275,\n",
       "  8.234955312810328,\n",
       "  8.922370012091898,\n",
       "  6.975555555555555,\n",
       "  2.0],\n",
       " 22: [7.910038281582305,\n",
       "  8.194554848966614,\n",
       "  8.446083172147002,\n",
       "  6.976640711902114,\n",
       "  2.0],\n",
       " 23: [7.773978315262719,\n",
       "  8.054209690230342,\n",
       "  8.273452611218568,\n",
       "  6.993320964749536,\n",
       "  2.0]}"
      ]
     },
     "execution_count": 21,
     "metadata": {},
     "output_type": "execute_result"
    }
   ],
   "source": [
    "dicts"
   ]
  },
  {
   "cell_type": "markdown",
   "metadata": {},
   "source": [
    "#### With this for loop I am displaying the avg pct change of the growth of the previous dict for each hour (the various if are used to limit the weight of outliers)"
   ]
  },
  {
   "cell_type": "code",
   "execution_count": 22,
   "metadata": {},
   "outputs": [],
   "source": [
    "growth_light={}\n",
    "for i in dicts.keys():\n",
    "    if i in [1,2,3,4,5,19,20,21,22,22,23]:\n",
    "        growth_light[i]=pd.Series(dicts[i])[0:-1].pct_change().mean()\n",
    "    elif i in [7,8,18]:\n",
    "        growth_light[i]=pd.Series(dicts[i])[-3:].pct_change().mean()\n",
    "    elif i in [6]:\n",
    "        growth_light[i]=pd.Series(dicts[i])[-2:].pct_change().mean()\n",
    "    else:\n",
    "        growth_light[i]=pd.Series(dicts[i]).pct_change().mean() "
   ]
  },
  {
   "cell_type": "code",
   "execution_count": 23,
   "metadata": {},
   "outputs": [],
   "source": [
    "multiplier = pd.DataFrame(growth_light.values())\n",
    "multiplier.index = multiplier.index + 1\n",
    "multiplier.reset_index(inplace=True)\n",
    "multiplier.columns = [\"hour\",\"multiplier\"]"
   ]
  },
  {
   "cell_type": "code",
   "execution_count": 24,
   "metadata": {},
   "outputs": [],
   "source": [
    "grouped = light.drop([\"week\"],axis=1).groupby([\"hour\"],as_index=False).mean()"
   ]
  },
  {
   "cell_type": "code",
   "execution_count": 25,
   "metadata": {},
   "outputs": [],
   "source": [
    "#new_df = pd.DataFrame(light.groupby([\"zone\",\"hour\"]).mean()).reset_index()"
   ]
  },
  {
   "cell_type": "markdown",
   "metadata": {},
   "source": [
    "# Movements"
   ]
  },
  {
   "cell_type": "code",
   "execution_count": 26,
   "metadata": {},
   "outputs": [],
   "source": [
    "movement.reset_index(inplace=True)"
   ]
  },
  {
   "cell_type": "code",
   "execution_count": 27,
   "metadata": {},
   "outputs": [],
   "source": [
    "movement[\"index\"] = pd.to_datetime(movement[\"index\"], errors=\"coerce\")\n",
    "movement[\"timestamp\"] = pd.to_datetime(movement[\"timestamp\"], errors=\"coerce\")"
   ]
  },
  {
   "cell_type": "code",
   "execution_count": 28,
   "id": "detailed-perth",
   "metadata": {},
   "outputs": [],
   "source": [
    "movement[\"week\"] = movement[\"index\"].dt.isocalendar().week\n",
    "movement[\"hour\"] = movement[\"timestamp\"].dt.hour"
   ]
  },
  {
   "cell_type": "code",
   "execution_count": 29,
   "metadata": {},
   "outputs": [],
   "source": [
    "movement.drop([\"index\",\"timestamp\",\"zone\",\"sensor\",\"id\"],axis=1,inplace=True)"
   ]
  },
  {
   "cell_type": "code",
   "execution_count": 30,
   "metadata": {},
   "outputs": [],
   "source": [
    "movements= movement.drop([\"week\"],axis=1).groupby([\"hour\"], as_index=False).sum()"
   ]
  },
  {
   "cell_type": "markdown",
   "metadata": {},
   "source": [
    "#### Here we merge the passages per hour with the avg light per hour"
   ]
  },
  {
   "cell_type": "code",
   "execution_count": 31,
   "metadata": {},
   "outputs": [],
   "source": [
    "import numpy as np\n",
    "light_movement = pd.merge(grouped, movements, how=\"outer\", on=[\"hour\"])\n",
    "light_movement[\"n_passages\"].replace(np.nan,0, inplace=True)"
   ]
  },
  {
   "cell_type": "code",
   "execution_count": 32,
   "metadata": {},
   "outputs": [],
   "source": [
    "light_movement[\"curtains_30%\"] = grouped[\"value\"]*0.7\n",
    "light_movement[\"curtains_60%\"] = grouped[\"value\"]*0.4\n",
    "light_movement[\"ALS\"] = grouped[\"value\"] + 450\n",
    "light_movement.set_index([\"hour\"],inplace=True)"
   ]
  },
  {
   "cell_type": "code",
   "execution_count": 33,
   "metadata": {},
   "outputs": [],
   "source": [
    "#### It's needed to iterate below to create the list \"passages\"\n",
    "n_passages = light_movement[\"n_passages\"].reset_index().copy()"
   ]
  },
  {
   "cell_type": "markdown",
   "metadata": {},
   "source": [
    "### Forecasted Lux = (1 - Forecasted Cloud Level * 0,40) * Average Past Lux Distribution"
   ]
  },
  {
   "cell_type": "code",
   "execution_count": 34,
   "metadata": {},
   "outputs": [],
   "source": [
    "forecast.rename(columns={\"main/temp\":\"temperature\",\"main/temp_min\":\"min_temperature\",\n",
    "                \"main/temp_max\":\"max_temperature\",\"main/pressure\":\"pressure\",\n",
    "               \"main/sea_level\":\"sea_level\", \"main/grnd_level\":\"ground_level\",\n",
    "               \"main/humidity\":\"humidity\",\"weather/0/id\":\"weather_measure\",\n",
    "               \"weather/0/main\":\"weather_cat\",\"clouds/all\":\"cloud_measure\",\n",
    "               \"dt_txt\":\"datetime\",\"rain/3h\":\"rain_measure\"}, inplace=True)"
   ]
  },
  {
   "cell_type": "code",
   "execution_count": 35,
   "metadata": {},
   "outputs": [],
   "source": [
    "prevision.sort_values([\"week\",\"day\"], inplace=True)"
   ]
  },
  {
   "cell_type": "markdown",
   "metadata": {},
   "source": [
    "#### In the next passages I am trying to isolate the week from 18 to 22 of March (the most recent and complete) to the multiply it by the \"multiplier\". "
   ]
  },
  {
   "cell_type": "code",
   "execution_count": 36,
   "metadata": {},
   "outputs": [],
   "source": [
    "whole_week = prevision.groupby([\"week\",\"day\",\"hour\"],as_index=False).mean().copy()"
   ]
  },
  {
   "cell_type": "code",
   "execution_count": 37,
   "metadata": {},
   "outputs": [],
   "source": [
    "whole_week = prevision[(prevision[\"day\"]>=18)  & (prevision[\"day\"]<=22)]"
   ]
  },
  {
   "cell_type": "code",
   "execution_count": 38,
   "metadata": {},
   "outputs": [
    {
     "name": "stderr",
     "output_type": "stream",
     "text": [
      "/Users/alessandro/opt/anaconda3/lib/python3.8/site-packages/pandas/core/frame.py:4163: SettingWithCopyWarning: \n",
      "A value is trying to be set on a copy of a slice from a DataFrame\n",
      "\n",
      "See the caveats in the documentation: https://pandas.pydata.org/pandas-docs/stable/user_guide/indexing.html#returning-a-view-versus-a-copy\n",
      "  return super().drop(\n"
     ]
    }
   ],
   "source": [
    "whole_week.drop([\"week\"],axis=1,inplace=True)"
   ]
  },
  {
   "cell_type": "markdown",
   "metadata": {},
   "source": [
    "#### Here I start creating \"artificially\" the forecasts for the values of light in April:\n",
    "1) merge the whole week with the \"multiplier\"\n",
    "\n",
    "2) adjusting both the date and the hour\n",
    "\n",
    "3) multiplying the value of light by the multiplier"
   ]
  },
  {
   "cell_type": "code",
   "execution_count": 39,
   "metadata": {},
   "outputs": [],
   "source": [
    "april = multiplier.merge(whole_week, on=\"hour\", how=\"outer\").sort_values([\"day\",\"hour\"]).copy()"
   ]
  },
  {
   "cell_type": "code",
   "execution_count": 40,
   "metadata": {},
   "outputs": [],
   "source": [
    "april[\"forecast\"] = april[\"value\"]*(1+april[\"multiplier\"])*(1+april[\"multiplier\"])"
   ]
  },
  {
   "cell_type": "code",
   "execution_count": 41,
   "metadata": {},
   "outputs": [],
   "source": [
    "april[\"day\"] = april[\"day\"]-17\n",
    "april[\"hour\"] = april[\"hour\"]+1"
   ]
  },
  {
   "cell_type": "code",
   "execution_count": 42,
   "metadata": {},
   "outputs": [],
   "source": [
    "april.reset_index(inplace=True)\n",
    "april.drop([\"index\",\"multiplier\"],axis=1,inplace=True)"
   ]
  },
  {
   "cell_type": "code",
   "execution_count": 43,
   "metadata": {},
   "outputs": [],
   "source": [
    "april = april.groupby([\"day\",\"hour\"], as_index=False).mean()"
   ]
  },
  {
   "cell_type": "code",
   "execution_count": 44,
   "metadata": {},
   "outputs": [],
   "source": [
    "forecast[\"datetime\"] = pd.to_datetime(forecast[\"datetime\"])"
   ]
  },
  {
   "cell_type": "code",
   "execution_count": 45,
   "metadata": {},
   "outputs": [],
   "source": [
    "forecast[\"day\"] = forecast[\"datetime\"].dt.day\n",
    "forecast[\"hour\"] = forecast[\"datetime\"].dt.hour"
   ]
  },
  {
   "cell_type": "markdown",
   "metadata": {},
   "source": [
    "#### Here I merge the forecast.json df and the dataframe I created containing my forecast for april light measures."
   ]
  },
  {
   "cell_type": "code",
   "execution_count": 46,
   "metadata": {},
   "outputs": [],
   "source": [
    "final_df = forecast.merge(april, on=[\"day\",\"hour\"], how=\"inner\")"
   ]
  },
  {
   "cell_type": "code",
   "execution_count": 47,
   "metadata": {},
   "outputs": [],
   "source": [
    "final_df.drop([\"dt\",\"temperature\",\"min_temperature\",\n",
    "               \"max_temperature\",\"pressure\",\"sea_level\",\n",
    "               \"ground_level\",\"humidity\",\"main/temp_kf\",\n",
    "               \"weather_measure\",\"weather_cat\",\n",
    "              \"weather/0/description\",\"weather/0/icon\",\"wind/speed\",\n",
    "              \"wind/deg\",\"sys/pod\",\"datetime\",\"rain_measure\",\"value\"]\n",
    "              ,axis=1, inplace=True)"
   ]
  },
  {
   "cell_type": "code",
   "execution_count": 48,
   "metadata": {
    "scrolled": true
   },
   "outputs": [],
   "source": [
    "#final_df = final_df.merge(passages, on=[\"hour\"]).sort_values([\"day\",\"hour\"])"
   ]
  },
  {
   "cell_type": "code",
   "execution_count": 49,
   "metadata": {},
   "outputs": [],
   "source": [
    "final_df.reset_index(inplace=True)"
   ]
  },
  {
   "cell_type": "code",
   "execution_count": 50,
   "metadata": {},
   "outputs": [],
   "source": [
    "final_df.drop([\"index\"], axis=1, inplace=True)"
   ]
  },
  {
   "cell_type": "code",
   "execution_count": 51,
   "metadata": {},
   "outputs": [],
   "source": [
    "clouds=[]\n",
    "for i in final_df.index:\n",
    "    clouds.append(final_df.iloc[i,0])\n",
    "    if i+1 in final_df.index:\n",
    "        a = final_df.iloc[i+1,0]\n",
    "        b = final_df.iloc[i,0]\n",
    "        clouds.append(\"{:.2f}\".format(b+(a-b)*0.33))\n",
    "        clouds.append(\"{:.2f}\".format(b+(a-b)*0.66))\n",
    "    else:\n",
    "        break"
   ]
  },
  {
   "cell_type": "code",
   "execution_count": 52,
   "metadata": {},
   "outputs": [],
   "source": [
    "hours = []\n",
    "for i in final_df.index:\n",
    "    a = final_df.iloc[i,2]\n",
    "    hours.append(a)\n",
    "    if i+1 in final_df.index:\n",
    "        hours.append(a+1)\n",
    "        hours.append(a+2)  \n",
    "    else:\n",
    "        break"
   ]
  },
  {
   "cell_type": "code",
   "execution_count": 53,
   "metadata": {},
   "outputs": [],
   "source": [
    "hours = pd.DataFrame(hours)\n",
    "clouds = pd.DataFrame(clouds)\n",
    "df_conc = pd.concat([clouds,hours],axis=1)\n",
    "df_conc.columns = [\"cloud_measure\",\"hour\"]"
   ]
  },
  {
   "cell_type": "code",
   "execution_count": 54,
   "metadata": {},
   "outputs": [],
   "source": [
    "day = []\n",
    "a=1\n",
    "for i in df_conc.index:\n",
    "    if i+1 in df_conc.index:\n",
    "        if df_conc.index[i]==df_conc.index[0]:\n",
    "            day.append(a)\n",
    "        else:\n",
    "            if df_conc.iloc[i,1] < df_conc.iloc[i+1,1]:\n",
    "                day.append(a)   \n",
    "            else:\n",
    "                a+=1\n",
    "                day.append(a)\n",
    "    else:\n",
    "        day.append(a)\n",
    "        break"
   ]
  },
  {
   "cell_type": "code",
   "execution_count": 55,
   "metadata": {},
   "outputs": [],
   "source": [
    "n_passage=[]\n",
    "for i in df_conc.index:\n",
    "    for h in n_passages.index:\n",
    "        if df_conc.iloc[i,1] == n_passages.iloc[h,0]:\n",
    "            n_passage.append(n_passages.iloc[h,1])"
   ]
  },
  {
   "cell_type": "code",
   "execution_count": 56,
   "metadata": {},
   "outputs": [],
   "source": [
    "day = pd.DataFrame(day)\n",
    "n_passages = pd.DataFrame(n_passage)"
   ]
  },
  {
   "cell_type": "code",
   "execution_count": 57,
   "metadata": {},
   "outputs": [],
   "source": [
    "df_conc = pd.concat([day,hours,clouds,n_passages], axis=1)\n",
    "df_conc.columns=[\"day\",\"hour\",\"cloud_measure\",\"n_passages\"]"
   ]
  },
  {
   "cell_type": "code",
   "execution_count": 58,
   "metadata": {},
   "outputs": [],
   "source": [
    "df = df_conc.merge(april, on=[\"day\",\"hour\"],how=\"inner\")\n",
    "df.drop([\"value\"],axis=1,inplace=True)"
   ]
  },
  {
   "cell_type": "markdown",
   "metadata": {},
   "source": [
    "## OPTIMIZATION"
   ]
  },
  {
   "cell_type": "code",
   "execution_count": 59,
   "metadata": {},
   "outputs": [],
   "source": [
    "expenses = df.copy()"
   ]
  },
  {
   "cell_type": "code",
   "execution_count": 60,
   "metadata": {},
   "outputs": [],
   "source": [
    "expenses[\"KWh_consumption_ALS_100%\"]=0.5\n",
    "expenses[\"pct_cloud_measure\"] =pd.to_numeric(expenses.cloud_measure)\n",
    "expenses[\"KWh_consumption_ALS_50%\"]=0.3\n",
    "expenses[\"€/KWh\"] = 0.3\n",
    "expenses[\"forecasted_lux\"] = (1-(expenses.pct_cloud_measure/100)*0.4)*expenses.forecast\n",
    "expenses[\"curtains_30%\"] = expenses[\"forecasted_lux\"]*0.7\n",
    "expenses[\"curtains_60%\"] = expenses[\"forecasted_lux\"]*0.4\n",
    "expenses[\"lux_with_100_ALS\"] = expenses[\"forecasted_lux\"] + 450\n",
    "expenses[\"lux_with_50_ALS\"] = expenses[\"forecasted_lux\"] + 225"
   ]
  },
  {
   "cell_type": "code",
   "execution_count": 61,
   "metadata": {},
   "outputs": [],
   "source": [
    "expenses.drop([\"cloud_measure\",\"diff\",\"forecast\",\"pct_cloud_measure\"],axis=1,inplace=True)"
   ]
  },
  {
   "cell_type": "code",
   "execution_count": 62,
   "metadata": {},
   "outputs": [],
   "source": [
    "best_option = []\n",
    "for i in range(100):\n",
    "    row = []\n",
    "    for m in range(6,11):\n",
    "        row.append(expenses.iloc[i,m])\n",
    "    try:\n",
    "        c = [x for x in row if (x<650) and (x>450)]\n",
    "        best_option.append(min(c))\n",
    "    except:\n",
    "        newcol = []\n",
    "        for k in range(len(row)):\n",
    "            newcol.append(min([abs(450-row[k]),abs(row[k]-650)]))\n",
    "        b = newcol.index(min(newcol))\n",
    "        best_option.append(row[b])"
   ]
  },
  {
   "cell_type": "code",
   "execution_count": 63,
   "metadata": {},
   "outputs": [],
   "source": [
    "best_option = pd.DataFrame(best_option)"
   ]
  },
  {
   "cell_type": "code",
   "execution_count": 64,
   "metadata": {},
   "outputs": [],
   "source": [
    "expenses = pd.concat([expenses,best_option],axis=1)\n",
    "expenses.rename(columns={0:\"best_option\"}, inplace=True)"
   ]
  },
  {
   "cell_type": "code",
   "execution_count": 65,
   "metadata": {},
   "outputs": [],
   "source": [
    "names = []\n",
    "for i in range(100):\n",
    "    for m in range(6,11):\n",
    "        if expenses.iloc[i,11] == expenses.iloc[i,m]:\n",
    "            names.append(m)"
   ]
  },
  {
   "cell_type": "code",
   "execution_count": 66,
   "metadata": {},
   "outputs": [
    {
     "name": "stderr",
     "output_type": "stream",
     "text": [
      "<ipython-input-66-12756d2d813f>:2: FutureWarning: Support for multi-dimensional indexing (e.g. `obj[:, None]`) is deprecated and will be removed in a future version.  Convert to a numpy array before indexing instead.\n",
      "  expenses[\"Best_opt_name\"] = expenses.columns[names]\n"
     ]
    }
   ],
   "source": [
    "names = pd.DataFrame(names)\n",
    "expenses[\"Best_opt_name\"] = expenses.columns[names]"
   ]
  },
  {
   "cell_type": "code",
   "execution_count": null,
   "metadata": {},
   "outputs": [],
   "source": []
  },
  {
   "cell_type": "code",
   "execution_count": 67,
   "metadata": {},
   "outputs": [],
   "source": [
    "for i in expenses.index:\n",
    "    if expenses.loc[i,\"n_passages\"]==0.0:\n",
    "        expenses.iloc[i,-1]=\"closed-lab\""
   ]
  },
  {
   "cell_type": "code",
   "execution_count": 68,
   "metadata": {
    "scrolled": true
   },
   "outputs": [
    {
     "data": {
      "text/html": [
       "<div>\n",
       "<style scoped>\n",
       "    .dataframe tbody tr th:only-of-type {\n",
       "        vertical-align: middle;\n",
       "    }\n",
       "\n",
       "    .dataframe tbody tr th {\n",
       "        vertical-align: top;\n",
       "    }\n",
       "\n",
       "    .dataframe thead th {\n",
       "        text-align: right;\n",
       "    }\n",
       "</style>\n",
       "<table border=\"1\" class=\"dataframe\">\n",
       "  <thead>\n",
       "    <tr style=\"text-align: right;\">\n",
       "      <th></th>\n",
       "      <th>day</th>\n",
       "      <th>hour</th>\n",
       "      <th>n_passages</th>\n",
       "      <th>KWh_consumption_ALS_100%</th>\n",
       "      <th>KWh_consumption_ALS_50%</th>\n",
       "      <th>€/KWh</th>\n",
       "      <th>forecasted_lux</th>\n",
       "      <th>curtains_30%</th>\n",
       "      <th>curtains_60%</th>\n",
       "      <th>lux_with_100_ALS</th>\n",
       "      <th>lux_with_50_ALS</th>\n",
       "      <th>best_option</th>\n",
       "      <th>Best_opt_name</th>\n",
       "    </tr>\n",
       "  </thead>\n",
       "  <tbody>\n",
       "    <tr>\n",
       "      <th>0</th>\n",
       "      <td>1</td>\n",
       "      <td>6</td>\n",
       "      <td>0.0</td>\n",
       "      <td>0.5</td>\n",
       "      <td>0.3</td>\n",
       "      <td>0.3</td>\n",
       "      <td>7.781399</td>\n",
       "      <td>5.446980</td>\n",
       "      <td>3.112560</td>\n",
       "      <td>457.781399</td>\n",
       "      <td>232.781399</td>\n",
       "      <td>457.781399</td>\n",
       "      <td>closed-lab</td>\n",
       "    </tr>\n",
       "    <tr>\n",
       "      <th>1</th>\n",
       "      <td>1</td>\n",
       "      <td>7</td>\n",
       "      <td>372.0</td>\n",
       "      <td>0.5</td>\n",
       "      <td>0.3</td>\n",
       "      <td>0.3</td>\n",
       "      <td>286.745976</td>\n",
       "      <td>200.722183</td>\n",
       "      <td>114.698390</td>\n",
       "      <td>736.745976</td>\n",
       "      <td>511.745976</td>\n",
       "      <td>511.745976</td>\n",
       "      <td>lux_with_50_ALS</td>\n",
       "    </tr>\n",
       "    <tr>\n",
       "      <th>2</th>\n",
       "      <td>1</td>\n",
       "      <td>8</td>\n",
       "      <td>1094.0</td>\n",
       "      <td>0.5</td>\n",
       "      <td>0.3</td>\n",
       "      <td>0.3</td>\n",
       "      <td>816.973911</td>\n",
       "      <td>571.881738</td>\n",
       "      <td>326.789564</td>\n",
       "      <td>1266.973911</td>\n",
       "      <td>1041.973911</td>\n",
       "      <td>571.881738</td>\n",
       "      <td>curtains_30%</td>\n",
       "    </tr>\n",
       "    <tr>\n",
       "      <th>3</th>\n",
       "      <td>1</td>\n",
       "      <td>9</td>\n",
       "      <td>2581.0</td>\n",
       "      <td>0.5</td>\n",
       "      <td>0.3</td>\n",
       "      <td>0.3</td>\n",
       "      <td>1086.277391</td>\n",
       "      <td>760.394174</td>\n",
       "      <td>434.510956</td>\n",
       "      <td>1536.277391</td>\n",
       "      <td>1311.277391</td>\n",
       "      <td>434.510956</td>\n",
       "      <td>curtains_60%</td>\n",
       "    </tr>\n",
       "    <tr>\n",
       "      <th>4</th>\n",
       "      <td>1</td>\n",
       "      <td>10</td>\n",
       "      <td>2476.0</td>\n",
       "      <td>0.5</td>\n",
       "      <td>0.3</td>\n",
       "      <td>0.3</td>\n",
       "      <td>918.510214</td>\n",
       "      <td>642.957149</td>\n",
       "      <td>367.404085</td>\n",
       "      <td>1368.510214</td>\n",
       "      <td>1143.510214</td>\n",
       "      <td>642.957149</td>\n",
       "      <td>curtains_30%</td>\n",
       "    </tr>\n",
       "    <tr>\n",
       "      <th>...</th>\n",
       "      <td>...</td>\n",
       "      <td>...</td>\n",
       "      <td>...</td>\n",
       "      <td>...</td>\n",
       "      <td>...</td>\n",
       "      <td>...</td>\n",
       "      <td>...</td>\n",
       "      <td>...</td>\n",
       "      <td>...</td>\n",
       "      <td>...</td>\n",
       "      <td>...</td>\n",
       "      <td>...</td>\n",
       "      <td>...</td>\n",
       "    </tr>\n",
       "    <tr>\n",
       "      <th>95</th>\n",
       "      <td>5</td>\n",
       "      <td>17</td>\n",
       "      <td>1128.0</td>\n",
       "      <td>0.5</td>\n",
       "      <td>0.3</td>\n",
       "      <td>0.3</td>\n",
       "      <td>828.327238</td>\n",
       "      <td>579.829066</td>\n",
       "      <td>331.330895</td>\n",
       "      <td>1278.327238</td>\n",
       "      <td>1053.327238</td>\n",
       "      <td>579.829066</td>\n",
       "      <td>curtains_30%</td>\n",
       "    </tr>\n",
       "    <tr>\n",
       "      <th>96</th>\n",
       "      <td>5</td>\n",
       "      <td>18</td>\n",
       "      <td>463.0</td>\n",
       "      <td>0.5</td>\n",
       "      <td>0.3</td>\n",
       "      <td>0.3</td>\n",
       "      <td>944.172956</td>\n",
       "      <td>660.921069</td>\n",
       "      <td>377.669183</td>\n",
       "      <td>1394.172956</td>\n",
       "      <td>1169.172956</td>\n",
       "      <td>660.921069</td>\n",
       "      <td>curtains_30%</td>\n",
       "    </tr>\n",
       "    <tr>\n",
       "      <th>97</th>\n",
       "      <td>5</td>\n",
       "      <td>19</td>\n",
       "      <td>144.0</td>\n",
       "      <td>0.5</td>\n",
       "      <td>0.3</td>\n",
       "      <td>0.3</td>\n",
       "      <td>209.907251</td>\n",
       "      <td>146.935076</td>\n",
       "      <td>83.962900</td>\n",
       "      <td>659.907251</td>\n",
       "      <td>434.907251</td>\n",
       "      <td>659.907251</td>\n",
       "      <td>lux_with_100_ALS</td>\n",
       "    </tr>\n",
       "    <tr>\n",
       "      <th>98</th>\n",
       "      <td>5</td>\n",
       "      <td>20</td>\n",
       "      <td>131.0</td>\n",
       "      <td>0.5</td>\n",
       "      <td>0.3</td>\n",
       "      <td>0.3</td>\n",
       "      <td>3.525243</td>\n",
       "      <td>2.467670</td>\n",
       "      <td>1.410097</td>\n",
       "      <td>453.525243</td>\n",
       "      <td>228.525243</td>\n",
       "      <td>453.525243</td>\n",
       "      <td>lux_with_100_ALS</td>\n",
       "    </tr>\n",
       "    <tr>\n",
       "      <th>99</th>\n",
       "      <td>5</td>\n",
       "      <td>21</td>\n",
       "      <td>0.0</td>\n",
       "      <td>0.5</td>\n",
       "      <td>0.3</td>\n",
       "      <td>0.3</td>\n",
       "      <td>2.741413</td>\n",
       "      <td>1.918989</td>\n",
       "      <td>1.096565</td>\n",
       "      <td>452.741413</td>\n",
       "      <td>227.741413</td>\n",
       "      <td>452.741413</td>\n",
       "      <td>closed-lab</td>\n",
       "    </tr>\n",
       "  </tbody>\n",
       "</table>\n",
       "<p>100 rows × 13 columns</p>\n",
       "</div>"
      ],
      "text/plain": [
       "    day  hour  n_passages  KWh_consumption_ALS_100%  KWh_consumption_ALS_50%  \\\n",
       "0     1     6         0.0                       0.5                      0.3   \n",
       "1     1     7       372.0                       0.5                      0.3   \n",
       "2     1     8      1094.0                       0.5                      0.3   \n",
       "3     1     9      2581.0                       0.5                      0.3   \n",
       "4     1    10      2476.0                       0.5                      0.3   \n",
       "..  ...   ...         ...                       ...                      ...   \n",
       "95    5    17      1128.0                       0.5                      0.3   \n",
       "96    5    18       463.0                       0.5                      0.3   \n",
       "97    5    19       144.0                       0.5                      0.3   \n",
       "98    5    20       131.0                       0.5                      0.3   \n",
       "99    5    21         0.0                       0.5                      0.3   \n",
       "\n",
       "    €/KWh  forecasted_lux  curtains_30%  curtains_60%  lux_with_100_ALS  \\\n",
       "0     0.3        7.781399      5.446980      3.112560        457.781399   \n",
       "1     0.3      286.745976    200.722183    114.698390        736.745976   \n",
       "2     0.3      816.973911    571.881738    326.789564       1266.973911   \n",
       "3     0.3     1086.277391    760.394174    434.510956       1536.277391   \n",
       "4     0.3      918.510214    642.957149    367.404085       1368.510214   \n",
       "..    ...             ...           ...           ...               ...   \n",
       "95    0.3      828.327238    579.829066    331.330895       1278.327238   \n",
       "96    0.3      944.172956    660.921069    377.669183       1394.172956   \n",
       "97    0.3      209.907251    146.935076     83.962900        659.907251   \n",
       "98    0.3        3.525243      2.467670      1.410097        453.525243   \n",
       "99    0.3        2.741413      1.918989      1.096565        452.741413   \n",
       "\n",
       "    lux_with_50_ALS  best_option     Best_opt_name  \n",
       "0        232.781399   457.781399        closed-lab  \n",
       "1        511.745976   511.745976   lux_with_50_ALS  \n",
       "2       1041.973911   571.881738      curtains_30%  \n",
       "3       1311.277391   434.510956      curtains_60%  \n",
       "4       1143.510214   642.957149      curtains_30%  \n",
       "..              ...          ...               ...  \n",
       "95      1053.327238   579.829066      curtains_30%  \n",
       "96      1169.172956   660.921069      curtains_30%  \n",
       "97       434.907251   659.907251  lux_with_100_ALS  \n",
       "98       228.525243   453.525243  lux_with_100_ALS  \n",
       "99       227.741413   452.741413        closed-lab  \n",
       "\n",
       "[100 rows x 13 columns]"
      ]
     },
     "execution_count": 68,
     "metadata": {},
     "output_type": "execute_result"
    }
   ],
   "source": [
    "expenses"
   ]
  },
  {
   "cell_type": "code",
   "execution_count": 69,
   "metadata": {},
   "outputs": [],
   "source": [
    "cost = []\n",
    "for i in range(100):\n",
    "    #lack_of_confort\n",
    "    if pd.Series(expenses.iloc[i,-2]).between(450,650)[0]==False:\n",
    "        c = expenses.iloc[i,-2]\n",
    "        cost.append(min([abs(c-450), abs(c-650)])*0.01)\n",
    "    #cost_of_light\n",
    "    else:\n",
    "        if expenses.iloc[i,-1] in [\"closed-lab\",'curtains_30%','curtains_60%']:\n",
    "            cost.append(0)\n",
    "        elif expenses.iloc[i,-1] == \"lux_with_50_ALS\":\n",
    "            cost.append(0.3*0.3)\n",
    "        elif expenses.iloc[i,-1] == \"lux_with_100_ALS\":\n",
    "            cost.append(0.5*0.3)\n",
    "#cost = pd.DataFrame(cost)"
   ]
  },
  {
   "cell_type": "markdown",
   "metadata": {},
   "source": [
    "## Automatic Curtains and New Neons"
   ]
  },
  {
   "cell_type": "code",
   "execution_count": 70,
   "metadata": {},
   "outputs": [
    {
     "name": "stdout",
     "output_type": "stream",
     "text": [
      "117.34780395509492\n"
     ]
    }
   ],
   "source": [
    "weekly_ammortization_neon=4000/365*7\n",
    "weekly_ammortization_curtains=2000/365*7\n",
    "total_cost_week = sum(cost)+weekly_ammortization_neon+weekly_ammortization_curtains\n",
    "print(total_cost_week)"
   ]
  },
  {
   "cell_type": "markdown",
   "metadata": {},
   "source": [
    "lack_of_comfort = abs(light_level-nearest_range)*0.01/h"
   ]
  }
 ],
 "metadata": {
  "kernelspec": {
   "display_name": "Python 3",
   "language": "python",
   "name": "python3"
  },
  "language_info": {
   "codemirror_mode": {
    "name": "ipython",
    "version": 3
   },
   "file_extension": ".py",
   "mimetype": "text/x-python",
   "name": "python",
   "nbconvert_exporter": "python",
   "pygments_lexer": "ipython3",
   "version": "3.8.5"
  },
  "toc": {
   "base_numbering": 1,
   "nav_menu": {},
   "number_sections": true,
   "sideBar": true,
   "skip_h1_title": false,
   "title_cell": "Table of Contents",
   "title_sidebar": "Contents",
   "toc_cell": false,
   "toc_position": {},
   "toc_section_display": true,
   "toc_window_display": false
  }
 },
 "nbformat": 4,
 "nbformat_minor": 5
}
